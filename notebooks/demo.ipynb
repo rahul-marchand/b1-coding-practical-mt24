{
 "cells": [
  {
   "cell_type": "code",
   "execution_count": null,
   "metadata": {},
   "outputs": [],
   "source": "# Add the parent directory to path to import uuv_mission module\nimport sys\nsys.path.insert(0, '..')"
  },
  {
   "cell_type": "code",
   "execution_count": null,
   "metadata": {},
   "outputs": [],
   "source": "# Import required modules\nfrom uuv_mission.dynamic import Submarine, ClosedLoop, Mission\nfrom uuv_mission.control import PDController\nimport numpy as np\n\nprint(\"Modules imported successfully!\")"
  },
  {
   "cell_type": "markdown",
   "metadata": {},
   "source": "# Test 1: Simulate with random mission\n\nFirst, let's test the PD controller with a randomly generated mission."
  },
  {
   "cell_type": "code",
   "execution_count": null,
   "metadata": {},
   "outputs": [],
   "source": "# Create a random mission\nmission = Mission.random_mission(duration=200, scale=5.0)\n\n# Create submarine and PD controller\nsub = Submarine()\ncontroller = PDController(kp=0.15, kd=0.6)\n\n# Create closed-loop system\nclosed_loop = ClosedLoop(sub, controller)\n\n# Simulate with random disturbances\ntrajectory = closed_loop.simulate_with_random_disturbances(mission, variance=0.5)\n\n# Plot the results\ntrajectory.plot_completed_mission(mission)"
  },
  {
   "cell_type": "markdown",
   "source": "# Test 2: Load mission from CSV\n\nIf you have a mission saved as CSV (e.g., data/mission.csv), you can load and test it.",
   "metadata": {}
  },
  {
   "cell_type": "code",
   "source": "# Uncomment to test with CSV mission\n# mission_csv = Mission.from_csv(\"../data/mission.csv\")\n# sub2 = Submarine()\n# controller2 = PDController(kp=0.15, kd=0.6)\n# closed_loop2 = ClosedLoop(sub2, controller2)\n# trajectory2 = closed_loop2.simulate_with_random_disturbances(mission_csv, variance=0.5)\n# trajectory2.plot_completed_mission(mission_csv)",
   "metadata": {},
   "execution_count": null,
   "outputs": []
  },
  {
   "cell_type": "markdown",
   "source": "# Test 3: Experiment with different controller gains\n\nTry adjusting KP and KD to see how they affect performance. Higher KP increases responsiveness but may cause overshoot. Higher KD provides damping and reduces oscillations.",
   "metadata": {}
  },
  {
   "cell_type": "code",
   "source": "# Test different gain combinations\ntest_gains = [\n    (0.10, 0.5),  # Lower proportional gain\n    (0.15, 0.6),  # Default gains\n    (0.20, 0.7),  # Higher gains\n]\n\nfor kp, kd in test_gains:\n    print(f\"\\nTesting with KP={kp}, KD={kd}\")\n    \n    # Create new mission and controller for each test\n    test_mission = Mission.random_mission(duration=150, scale=5.0)\n    test_sub = Submarine()\n    test_controller = PDController(kp=kp, kd=kd)\n    test_closed_loop = ClosedLoop(test_sub, test_controller)\n    \n    # Simulate\n    test_trajectory = test_closed_loop.simulate_with_random_disturbances(test_mission, variance=0.5)\n    \n    # Plot\n    print(f\"Plotting trajectory with KP={kp}, KD={kd}\")\n    test_trajectory.plot_completed_mission(test_mission)",
   "metadata": {},
   "execution_count": null,
   "outputs": []
  }
 ],
 "metadata": {
  "kernelspec": {
   "display_name": "first-venv",
   "language": "python",
   "name": "python3"
  },
  "language_info": {
   "codemirror_mode": {
    "name": "ipython",
    "version": 3
   },
   "file_extension": ".py",
   "mimetype": "text/x-python",
   "name": "python",
   "nbconvert_exporter": "python",
   "pygments_lexer": "ipython3",
   "version": "3.9.12"
  }
 },
 "nbformat": 4,
 "nbformat_minor": 2
}